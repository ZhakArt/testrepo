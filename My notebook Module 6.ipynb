{
 "cells": [
  {
   "cell_type": "markdown",
   "id": "b11de4a6",
   "metadata": {},
   "source": [
    "Data Science Tools and Ecosystem"
   ]
  },
  {
   "cell_type": "markdown",
   "id": "1a499fab",
   "metadata": {},
   "source": [
    "In this notebook, Data Science Tools and Ecosystem are summarized."
   ]
  },
  {
   "cell_type": "markdown",
   "id": "29214857",
   "metadata": {},
   "source": [
    "**Objectives:**\n",
    "* Python\n",
    "* Julia\n",
    "* R"
   ]
  },
  {
   "cell_type": "markdown",
   "id": "077a7250",
   "metadata": {},
   "source": [
    "Some of the popular languages that Data Scientiest use are:\n",
    "1. Python\n",
    "2. R\n",
    "3. C++\n",
    "4. Java\n",
    "5. Julia"
   ]
  },
  {
   "cell_type": "markdown",
   "id": "353569a5",
   "metadata": {},
   "source": [
    "Some of the commonly used librares used by Data Scitntists include:\n",
    "1. Pandas\n",
    "2. NumPy\n",
    "3. Matplotlib\n",
    "4. TensorFlow\n",
    "5. Keras"
   ]
  },
  {
   "cell_type": "markdown",
   "id": "35b758a2",
   "metadata": {},
   "source": [
    "|Data Science Tools|\n",
    "|------------------|\n",
    "| Matplotlib |\n",
    "| Pandas |\n",
    "| Jupiter Notebook |\n",
    "| Python |"
   ]
  },
  {
   "cell_type": "markdown",
   "id": "1676632e",
   "metadata": {},
   "source": [
    "Below are few examples of evaluating arithmetic expressions in Python"
   ]
  },
  {
   "cell_type": "code",
   "execution_count": 1,
   "id": "bf7bc25b",
   "metadata": {},
   "outputs": [
    {
     "data": {
      "text/plain": [
       "20"
      ]
     },
     "execution_count": 1,
     "metadata": {},
     "output_type": "execute_result"
    }
   ],
   "source": [
    "(3*5)+5"
   ]
  },
  {
   "cell_type": "code",
   "execution_count": 3,
   "id": "d7466d5d",
   "metadata": {},
   "outputs": [
    {
     "name": "stdout",
     "output_type": "stream",
     "text": [
      "In 200 minuts 3.3333333333333335 hours\n"
     ]
    }
   ],
   "source": [
    "#This will convert 200 minut to hours by diving by 60\n",
    "print(\"In 200 minuts\", 200/60, \"hours\")"
   ]
  },
  {
   "cell_type": "markdown",
   "id": "4174e196",
   "metadata": {},
   "source": [
    "## Author\n",
    "ZhakArt"
   ]
  },
  {
   "cell_type": "code",
   "execution_count": null,
   "id": "53071066",
   "metadata": {},
   "outputs": [],
   "source": []
  }
 ],
 "metadata": {
  "kernelspec": {
   "display_name": "Python 3 (ipykernel)",
   "language": "python",
   "name": "python3"
  },
  "language_info": {
   "codemirror_mode": {
    "name": "ipython",
    "version": 3
   },
   "file_extension": ".py",
   "mimetype": "text/x-python",
   "name": "python",
   "nbconvert_exporter": "python",
   "pygments_lexer": "ipython3",
   "version": "3.10.9"
  }
 },
 "nbformat": 4,
 "nbformat_minor": 5
}
